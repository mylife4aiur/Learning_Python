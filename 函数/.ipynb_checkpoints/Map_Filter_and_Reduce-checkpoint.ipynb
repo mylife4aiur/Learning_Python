{
 "cells": [
  {
   "cell_type": "markdown",
   "metadata": {},
   "source": [
    "# Map, Filter 和 Reduce 函数\n",
    "这篇文章会介绍 Python 3 中的 Map, Filter 和 Reduce 这三个函数，它们能简化编程中的某些函数方法。文章中的代码均是在 python 3 环境下运行，python 2 环境下这些函数会有一些不同。jupyter notebook 形式的文章放在了我的 [github](https://github.com/mylife4aiur/Learning_Python/blob/master/函数/Map_Filter_and_Reduce.ipynb) 上。"
   ]
  },
  {
   "cell_type": "markdown",
   "metadata": {
    "collapsed": true
   },
   "source": [
    "## 1. Map\n",
    "\n",
    "```python\n",
    "map(function, iterable, ...)\n",
    "```\n",
    "函数 ```map``` 返回一个迭代器，它将函数 ```function``` 应用在 ```iterable``` 这个可迭代参数的每一个元素上，逐个返回（yeild）结果（详见 1.1 节）。如果传入多个 ```iterable``` 参数，则要求函数 ```function``` 能接受同等数量的参数，这种情况下，```function``` 会被并行地应用于所有可迭代对象的每一个元素（详见 1.2 节）。对于多个可迭代变量，```map``` 函数产生的迭代器会在穷尽最短的可迭代对象后停止。对于那些函数输入已经被整理成参数元组（argument tuple）的情况，请参考 ```itertools.starmap()``` 函数。"
   ]
  },
  {
   "cell_type": "markdown",
   "metadata": {},
   "source": [
    "### 1.1. 单一 ```iterable``` 参数\n",
    "考虑一个最简单的任务，为列表 ```items``` 中的每一个元素求它的平方值，使用for循环的代码如下"
   ]
  },
  {
   "cell_type": "code",
   "execution_count": 5,
   "metadata": {},
   "outputs": [
    {
     "name": "stdout",
     "output_type": "stream",
     "text": [
      "[1, 4, 9, 16, 25]\n"
     ]
    }
   ],
   "source": [
    "items = [1, 2, 3, 4, 5]\n",
    "squared = []\n",
    "for i in items:\n",
    "    squared.append(i**2)\n",
    "print(squared)"
   ]
  },
  {
   "cell_type": "markdown",
   "metadata": {},
   "source": [
    "同样的任务我们可以使用 ```map``` 来计算"
   ]
  },
  {
   "cell_type": "code",
   "execution_count": 15,
   "metadata": {},
   "outputs": [
    {
     "name": "stdout",
     "output_type": "stream",
     "text": [
      "<map object at 0x10a383278>\n"
     ]
    }
   ],
   "source": [
    "items = [1, 2, 3, 4, 5]\n",
    "squared = map(lambda x: x**2, items)\n",
    "print(squared)"
   ]
  },
  {
   "cell_type": "markdown",
   "metadata": {},
   "source": [
    "这里使用了匿名函数来当传入的 ```function``` 参数。可以看到最后的结果 ```square``` 并不是一个列表（list），而是一个 ```map``` 对象，也就是一个迭代器，每调用一次这个迭代器的 .\\_\\_next\\_\\_() 方法都会按次序生成对应的结果。"
   ]
  },
  {
   "cell_type": "code",
   "execution_count": 16,
   "metadata": {},
   "outputs": [
    {
     "name": "stdout",
     "output_type": "stream",
     "text": [
      "1 4 9\n"
     ]
    }
   ],
   "source": [
    "items = [1, 2, 3, 4, 5]\n",
    "squared = map(lambda x: x**2, items)\n",
    "\n",
    "a=squared.__next__()\n",
    "b=squared.__next__()\n",
    "c=squared.__next__()\n",
    "print(a,b,c)"
   ]
  },
  {
   "cell_type": "markdown",
   "metadata": {},
   "source": [
    "可以看到虽然变量 ```a b c``` 都是调用的同样的函数，但是结果却不同，这有点类似c语言的指针结构，第一次调用.\\_\\_next\\_\\_() 方法返回 1 对应的结果后，下一次调用.\\_\\_next\\_\\_() 方法就会返回 2 对应的结果，以此类推。"
   ]
  },
  {
   "cell_type": "markdown",
   "metadata": {},
   "source": [
    "当然我们有更简单的方法来访问这个迭代器中的内容，可以用 ```for``` 循环依次访问或者直接将其转成列表。"
   ]
  },
  {
   "cell_type": "code",
   "execution_count": 35,
   "metadata": {},
   "outputs": [
    {
     "name": "stdout",
     "output_type": "stream",
     "text": [
      "for 循环:\n",
      "[1, 4, 9, 16, 25]\n",
      "转化成列表\n",
      "[1, 4, 9, 16, 25]\n"
     ]
    }
   ],
   "source": [
    "items = [1, 2, 3, 4, 5]\n",
    "\n",
    "print('for 循环:')\n",
    "squared = map(lambda x: x**2, items)\n",
    "result=[]\n",
    "for i in squared:\n",
    "    result.append(i)\n",
    "print(result)\n",
    "    \n",
    "print('转化成列表')\n",
    "squared = map(lambda x: x**2, items)\n",
    "print(list(squared))"
   ]
  },
  {
   "cell_type": "markdown",
   "metadata": {},
   "source": [
    "如果我们稍微改写一下上面的代码，注释掉倒数第二行，结果会有一点小问题"
   ]
  },
  {
   "cell_type": "code",
   "execution_count": 37,
   "metadata": {},
   "outputs": [
    {
     "name": "stdout",
     "output_type": "stream",
     "text": [
      "for 循环:\n",
      "[1, 4, 9, 16, 25]\n",
      "转化成列表\n",
      "[]\n"
     ]
    }
   ],
   "source": [
    "items = [1, 2, 3, 4, 5]\n",
    "\n",
    "print('for 循环:')\n",
    "squared = map(lambda x: x**2, items)\n",
    "result=[]\n",
    "for i in squared:\n",
    "    result.append(i)\n",
    "print(result)\n",
    "    \n",
    "print('转化成列表')\n",
    "# squared = map(lambda x: x**2, items)\n",
    "print(list(squared))"
   ]
  },
  {
   "cell_type": "markdown",
   "metadata": {},
   "source": [
    "可以看到，第二次没有输出对应的数值。这是因为实际上对 ```suqared``` 的 ```for``` 循环也在内在地调用 .\\_\\_next\\_\\_() 方法，直到穷尽所有的元素。因此当在最后一行将 ```suqared``` 列表化的时候会得到一个空列表"
   ]
  },
  {
   "cell_type": "code",
   "execution_count": 38,
   "metadata": {
    "scrolled": true
   },
   "outputs": [
    {
     "ename": "StopIteration",
     "evalue": "",
     "output_type": "error",
     "traceback": [
      "\u001b[0;31m---------------------------------------------------------------------------\u001b[0m",
      "\u001b[0;31mStopIteration\u001b[0m                             Traceback (most recent call last)",
      "\u001b[0;32m<ipython-input-38-1371fd72abe3>\u001b[0m in \u001b[0;36m<module>\u001b[0;34m()\u001b[0m\n\u001b[0;32m----> 1\u001b[0;31m \u001b[0msquared\u001b[0m\u001b[0;34m.\u001b[0m\u001b[0m__next__\u001b[0m\u001b[0;34m(\u001b[0m\u001b[0;34m)\u001b[0m\u001b[0;34m\u001b[0m\u001b[0m\n\u001b[0m",
      "\u001b[0;31mStopIteration\u001b[0m: "
     ]
    }
   ],
   "source": [
    "squared.__next__()"
   ]
  },
  {
   "cell_type": "markdown",
   "metadata": {},
   "source": [
    "再次调用 ```suqared``` 的 .\\_\\_next\\_\\_() 方法时，会报迭代停止的错误。"
   ]
  },
  {
   "cell_type": "markdown",
   "metadata": {},
   "source": [
    "### 1.2. 多个 ```iterable``` 参数"
   ]
  },
  {
   "cell_type": "markdown",
   "metadata": {},
   "source": [
    "当为 ```map``` 函数传入多个 ```iterable``` 参数的时候，```map``` 会并行地处理这些参数。这里引用一张 [Pythoner](http://www.pythoner.com/46.html) 的图片。![](multi_iterable.png)\n",
    "\n",
    "图片中，```map``` 函数接受了 ```M``` 个 ```seq``` 的输入和一个 ```func```  函数的输入，在执行的每一步中，map 会分别将 ```M``` 个 ```seq``` 相同位置的元素传给 ```func``` 计算结果。也就是说，第一个结果会是 ```func(seq1[0],seq1[0],...,seqM[0])``` ，第二个结果会是 ```func(seq1[1],seq1[1],...,seqM[1])```。如下面这个例子，计算两个和三个列表对应元素的乘积。\n"
   ]
  },
  {
   "cell_type": "code",
   "execution_count": 44,
   "metadata": {},
   "outputs": [
    {
     "name": "stdout",
     "output_type": "stream",
     "text": [
      "[2, 8, 18]\n",
      "[2, 80, 1800]\n"
     ]
    }
   ],
   "source": [
    "print(list(map(lambda x , y : x * y, [1,2,3], [2,4,6])))\n",
    "print(list(map(lambda x , y , z : x * y *z, [1,2,3], [2,4,6],[1,10,100])))"
   ]
  },
  {
   "cell_type": "markdown",
   "metadata": {},
   "source": [
    "对于传入的可迭代对象长度不一致的情况，```map``` 会生成和之中最短序列等长的迭代器"
   ]
  },
  {
   "cell_type": "code",
   "execution_count": 46,
   "metadata": {},
   "outputs": [
    {
     "name": "stdout",
     "output_type": "stream",
     "text": [
      "[2, 8, 18]\n"
     ]
    }
   ],
   "source": [
    "print(list(map(lambda x , y : x * y, [1,2,3], [2,4,6,8,10])))"
   ]
  },
  {
   "cell_type": "markdown",
   "metadata": {},
   "source": [
    "### 1.3 使用 ```map``` 进行格式转换\n",
    "如果将 ```map``` 中的 ```function``` 参数换成 python 内置的某些函数，还可以完成格式转换。"
   ]
  },
  {
   "cell_type": "code",
   "execution_count": 66,
   "metadata": {
    "scrolled": true
   },
   "outputs": [
    {
     "name": "stdout",
     "output_type": "stream",
     "text": [
      "[1, 2, 3]\n",
      "['1', '2', '3', '4']\n"
     ]
    }
   ],
   "source": [
    "print(list(map(int, [1.9,2.2,3.1])))\n",
    "print(list(map(str, [1,2,3,4])))"
   ]
  },
  {
   "cell_type": "markdown",
   "metadata": {},
   "source": [
    "### 1.4. 总结\n",
    "简而言之 ```map``` 将一个函数应用在一个或多个输入列表中的所有元素上"
   ]
  },
  {
   "cell_type": "markdown",
   "metadata": {},
   "source": [
    "## 2. Reduce\n",
    "```reduce``` 和 ```map``` 可以直接调用不同，它被放在了 ```functools``` 中：\n",
    "\n",
    "```python\n",
    "functools.reduce(function, iterable[, initializer])\n",
    "```\n",
    "```reduce``` 累积地将函数 ```function``` 从左至右地应用到序列 ```iterable``` 中的每一个元素，因此它将一个序列缩减到单一值。比如，```reduce(lambda x, y: x+y, [1, 2, 3, 4, 5])``` 将会计算 ```((((1+2)+3)+4)+5)```。左侧的参数 ```x``` 是前一步的累加值，右侧的参数 ```y``` 是从序列 ```iterable``` 中获取到的更新值。如果提供了可选参数 ```initializer```，将会将其放在所有 ```iterable``` 序列元素之前，作为函数  ```function``` 的初始值。如果没有提供 ```initializer``` 参数，且 ```iterable``` 中只有一个元素，那么 ```map``` 函数将会返回这个元素。"
   ]
  },
  {
   "cell_type": "code",
   "execution_count": 94,
   "metadata": {
    "collapsed": true
   },
   "outputs": [],
   "source": [
    "from functools import reduce"
   ]
  },
  {
   "cell_type": "code",
   "execution_count": 121,
   "metadata": {},
   "outputs": [
    {
     "name": "stdout",
     "output_type": "stream",
     "text": [
      "15\n",
      "21\n",
      "1\n"
     ]
    }
   ],
   "source": [
    "print(reduce(lambda x, y: x+y, [1, 2, 3, 4, 5]))\n",
    "# 提供 initializer 参数\n",
    "print(reduce(lambda x, y: x+y, [1, 2, 3, 4, 5],6))\n",
    "# iterable 中只有一个参数\n",
    "print(reduce(lambda x, y: x+y, [1]))"
   ]
  },
  {
   "cell_type": "markdown",
   "metadata": {},
   "source": [
    "## 3. Filter\n",
    "```python\n",
    "filter(function, iterable)\n",
    "```\n",
    "```function``` 函数会逐个判断 ```iterable``` 中的每个元素，返回真值的元素被留下，以此来构建一个迭代器。如果 ```function``` 是 ```None``` 的话，会默认使用恒等函数（identity function），这种情况下 ```iterable``` 中所有假值被移除。\n",
    "\n",
    "当 ```function``` 不是 ```None``` 的情况下，```filter(function, iterable)``` 等价于生成器表达式 ```(item for item in iterable if function(item))```；当 ```function``` 是 ```None``` 的情况下，等价于 ```(item for item in iterable if item)``` "
   ]
  },
  {
   "cell_type": "code",
   "execution_count": 141,
   "metadata": {},
   "outputs": [
    {
     "name": "stdout",
     "output_type": "stream",
     "text": [
      "[42, 67, 16]\n",
      "[1, 2, 3, 42, 67, 16]\n",
      "[2, 42, 16]\n"
     ]
    }
   ],
   "source": [
    "l1 = [ 1, 2, 3, 42, 67, 16 ]  \n",
    "print(list(filter(lambda x:x>10, l1))) \n",
    "\n",
    "# function 为 None\n",
    "l1 = [ 1, 2, 3, 42, 67, 16 ]  \n",
    "print(list(filter(None, l1))) \n",
    "l1 = [ False, 2, 0, 42, None, 16 ]  \n",
    "print(list(filter(None, l1))) "
   ]
  },
  {
   "cell_type": "markdown",
   "metadata": {},
   "source": [
    "## 4. 运行时间对比"
   ]
  },
  {
   "cell_type": "code",
   "execution_count": 122,
   "metadata": {
    "collapsed": true
   },
   "outputs": [],
   "source": [
    "from time import time"
   ]
  },
  {
   "cell_type": "markdown",
   "metadata": {},
   "source": [
    "### 4.1. Map"
   ]
  },
  {
   "cell_type": "code",
   "execution_count": 136,
   "metadata": {},
   "outputs": [
    {
     "name": "stdout",
     "output_type": "stream",
     "text": [
      "map 函数运行时间：0.114034\n",
      "for 循环运行时间：0.180772\n",
      "生成器表达式运行时间：0.148164\n"
     ]
    }
   ],
   "source": [
    "# 计算两个列表对应元素相加\n",
    "N=10001\n",
    "l1=list(range(N))\n",
    "l2=list(range(N,0,-1))\n",
    "\n",
    "'''=================== Map ======================'''\n",
    "tic=time()\n",
    "for i in range(100):\n",
    "    result_1=list(map(lambda x,y:x+y , l1,l2))\n",
    "toc=time()\n",
    "print('map 函数运行时间：{0:6f}'.format(toc-tic))\n",
    "\n",
    "'''=================== For ======================'''\n",
    "tic=time()\n",
    "for i in range(100):\n",
    "    result_2=[]\n",
    "    for i in range(len(l1)):\n",
    "        result_2=l1[i]+l2[i]\n",
    "toc=time()\n",
    "print('for 循环运行时间：{0:6f}'.format(toc-tic))\n",
    "\n",
    "'''============= Generator expression ============='''\n",
    "tic=time()\n",
    "for i in range(100):\n",
    "    result_3=[l1[i]+l2[i] for i in range(len(l1))]\n",
    "toc=time()\n",
    "print('生成器表达式运行时间：{0:6f}'.format(toc-tic))"
   ]
  },
  {
   "cell_type": "markdown",
   "metadata": {
    "collapsed": true
   },
   "source": [
    "可以看到 ```map``` 的速度是最快的，生成器表达式要快于 ```for``` 循环。"
   ]
  },
  {
   "cell_type": "markdown",
   "metadata": {},
   "source": [
    "### 4.2. Reduce"
   ]
  },
  {
   "cell_type": "code",
   "execution_count": 132,
   "metadata": {},
   "outputs": [
    {
     "name": "stdout",
     "output_type": "stream",
     "text": [
      "map 函数运行时间：1.080768\n",
      "map 结果为：500500\n",
      "for 循环运行时间：1.416803\n",
      "for 结果为：500500\n",
      "sum 运行时间：0.067965\n",
      "sum 结果为：500500\n"
     ]
    }
   ],
   "source": [
    "# 计算前N项和\n",
    "N=1001\n",
    "l=list(range(N))\n",
    "\n",
    "'''=================== Reduce ====================='''\n",
    "tic=time()\n",
    "for i in range(10000):\n",
    "    result_1=0\n",
    "    result_1=reduce(lambda x, y: x + y, l)\n",
    "toc=time()\n",
    "print('reduce 函数运行时间：{0:6f}'.format(toc-tic))\n",
    "print('reduce 结果为：{0}'.format(result_1))\n",
    "\n",
    "'''=================== For ========================'''\n",
    "tic=time()\n",
    "for i in range(10000):\n",
    "    result_2=0\n",
    "    for j in range(len(l)):\n",
    "        result_2+=l[j]\n",
    "toc=time()\n",
    "print('for 循环运行时间：{0:6f}'.format(toc-tic))\n",
    "print('for 结果为：{0}'.format(result_2))\n",
    "\n",
    "'''=================== Sum ========================'''\n",
    "tic=time()\n",
    "for i in range(10000):\n",
    "    result_3=0\n",
    "    result_3=sum(l)\n",
    "toc=time()\n",
    "print('sum 运行时间：{0:6f}'.format(toc-tic))\n",
    "print('sum 结果为：{0}'.format(result_3))"
   ]
  },
  {
   "cell_type": "markdown",
   "metadata": {},
   "source": [
    "可以看出 ```reduce``` 的速度比 ```for``` 循环要快，但是还是远远慢于 ```sum``` 函数，估计 ```sum``` 函数是经过特殊优化的。"
   ]
  },
  {
   "cell_type": "code",
   "execution_count": 147,
   "metadata": {},
   "outputs": [
    {
     "name": "stdout",
     "output_type": "stream",
     "text": [
      "filter 函数运行时间：0.004539\n",
      "生成器表达式 函数运行时间：0.878352\n"
     ]
    }
   ],
   "source": [
    "# 判断大小\n",
    "N=1001\n",
    "l=list(range(N))\n",
    "\n",
    "'''=================== Filter ====================='''\n",
    "tic=time()\n",
    "for i in range(10000):\n",
    "    result_1=filter(lambda x: x > N/2, l)\n",
    "toc=time()\n",
    "print('filter 函数运行时间：{0:6f}'.format(toc-tic))\n",
    "\n",
    "'''=================== Generator expression ====================='''\n",
    "tic=time()\n",
    "for i in range(10000):\n",
    "    result_2=[x for x in l if  x > N/2]\n",
    "toc=time()\n",
    "print('生成器表达式 函数运行时间：{0:6f}'.format(toc-tic))"
   ]
  },
  {
   "cell_type": "markdown",
   "metadata": {},
   "source": [
    "差距很明显了"
   ]
  },
  {
   "cell_type": "markdown",
   "metadata": {},
   "source": [
    "所以，当想用 ```for``` 循环实现自己算法的时候，可以先考虑一下能不能用这三个函数实现，这样大多数情况下可以提升算法的速度。"
   ]
  },
  {
   "cell_type": "markdown",
   "metadata": {},
   "source": [
    "## 5. 函数 ```function``` 的自定义\n",
    "我们不仅可以使用匿名函数定义 ```function```，还可以自己写一个函数当作参数传入。"
   ]
  },
  {
   "cell_type": "code",
   "execution_count": 148,
   "metadata": {
    "scrolled": true
   },
   "outputs": [
    {
     "name": "stdout",
     "output_type": "stream",
     "text": [
      "['A', 'S', 'D', 'F', 'D']\n"
     ]
    }
   ],
   "source": [
    "#将小写转成大写\n",
    "def l_to_u (sA\n",
    "  return s.upper()\n",
    "print (list(map(l_to_u,'asdfd')))"
   ]
  },
  {
   "cell_type": "markdown",
   "metadata": {},
   "source": [
    "## 6. 参考资料\n",
    "https://docs.python.org/3/library/functions.html#map\n",
    "\n",
    "http://book.pythontips.com/en/latest/map_filter.html\n",
    "\n",
    "http://www.pythoner.com/46.html"
   ]
  },
  {
   "cell_type": "code",
   "execution_count": null,
   "metadata": {
    "collapsed": true
   },
   "outputs": [],
   "source": []
  }
 ],
 "metadata": {
  "kernelspec": {
   "display_name": "Python 3",
   "language": "python",
   "name": "python3"
  },
  "language_info": {
   "codemirror_mode": {
    "name": "ipython",
    "version": 3
   },
   "file_extension": ".py",
   "mimetype": "text/x-python",
   "name": "python",
   "nbconvert_exporter": "python",
   "pygments_lexer": "ipython3",
   "version": "3.6.1"
  }
 },
 "nbformat": 4,
 "nbformat_minor": 2
}
