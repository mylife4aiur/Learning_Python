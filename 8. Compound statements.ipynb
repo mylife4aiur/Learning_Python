{
 "cells": [
  {
   "cell_type": "markdown",
   "metadata": {},
   "source": [
    "# 8. Compound statements\n",
    "\n",
    "复合语句\n",
    "\n",
    "Compound statements contain (groups of) other statements\n",
    "\n",
    "一个 Compound statement 包含一个或多个“clauses（从句）”。\n",
    "一个 clause 由一个 header 和一个“suite”组成。\n",
    "一个 compound statement 的所有 clauses headers 具有相同的缩进等级（indentation level）。\n",
    "每一个 clause heafer 都以一个唯一标识的关键词做开始，并以冒号结束。\n",
    "一个 suite 是一个被 clause 控制的 group of statement。\n"
   ]
  },
  {
   "cell_type": "markdown",
   "metadata": {},
   "source": [
    "## 8.3 The ```for``` statement\n",
    "\n",
    "```python\n",
    "for_stmt ::=  \"for\" target_list \"in\" expression_list \":\" suite\n",
    "              [\"else\" \":\" suite]\n",
    "\n",
    "```\n",
    "expression_list 应该是一个可迭代对象，最终会生成一个迭代器。迭代器产生的每一个 item 都会执行 suite。 当所有的 item 都执行完后，如果存在 else 从句，则其内部的 suite 会被执行。循环结束。\n",
    "\n",
    "### 需要注意的是：\n",
    "\n",
    "执行 ```break``` 语句跳出循环不会执行```else```语句。\n",
    "\n",
    "执行```continue```语句会跳过后续的 suite，执行下一个 item，最终仍会执行```else```语句\n"
   ]
  },
  {
   "cell_type": "code",
   "execution_count": 3,
   "metadata": {
    "collapsed": false
   },
   "outputs": [
    {
     "name": "stdout",
     "output_type": "stream",
     "text": [
      "0\n",
      "1\n",
      "2\n",
      "3\n",
      "4\n",
      "Done\n"
     ]
    }
   ],
   "source": [
    "for i in range(5):\n",
    "    print(i)\n",
    "else:\n",
    "    print('Done')"
   ]
  },
  {
   "cell_type": "code",
   "execution_count": 2,
   "metadata": {
    "collapsed": false
   },
   "outputs": [
    {
     "name": "stdout",
     "output_type": "stream",
     "text": [
      "0\n"
     ]
    }
   ],
   "source": [
    "for i in range(5):\n",
    "    print(i)\n",
    "    break\n",
    "else:\n",
    "    print('Done')"
   ]
  },
  {
   "cell_type": "code",
   "execution_count": 4,
   "metadata": {
    "collapsed": false
   },
   "outputs": [
    {
     "name": "stdout",
     "output_type": "stream",
     "text": [
      "Done\n"
     ]
    }
   ],
   "source": [
    "for i in range(5):\n",
    "    continue\n",
    "    print(i)\n",
    "    \n",
    "else:\n",
    "    print('Done')"
   ]
  },
  {
   "cell_type": "code",
   "execution_count": null,
   "metadata": {
    "collapsed": true
   },
   "outputs": [],
   "source": []
  }
 ],
 "metadata": {
  "kernelspec": {
   "display_name": "Python 3",
   "language": "python",
   "name": "python3"
  },
  "language_info": {
   "codemirror_mode": {
    "name": "ipython",
    "version": 3
   },
   "file_extension": ".py",
   "mimetype": "text/x-python",
   "name": "python",
   "nbconvert_exporter": "python",
   "pygments_lexer": "ipython3",
   "version": "3.6.0"
  }
 },
 "nbformat": 4,
 "nbformat_minor": 2
}
